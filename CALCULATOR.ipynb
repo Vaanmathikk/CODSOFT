{
  "nbformat": 4,
  "nbformat_minor": 0,
  "metadata": {
    "colab": {
      "private_outputs": true,
      "provenance": []
    },
    "kernelspec": {
      "name": "python3",
      "display_name": "Python 3"
    },
    "language_info": {
      "name": "python"
    }
  },
  "cells": [
    {
      "cell_type": "code",
      "execution_count": null,
      "metadata": {
        "id": "PoIKBqtvk70o"
      },
      "outputs": [],
      "source": [
        "#define the calculator logic\n",
        "def add(x, y):\n",
        "    return x + y\n",
        "\n",
        "def subtract(x, y):\n",
        "    return x - y\n",
        "\n",
        "def multiply(x, y):\n",
        "    return x * y\n",
        "\n",
        "def divide(x, y):\n",
        "    if y == 0:\n",
        "        return \"Error! Division by zero.\"\n",
        "    return x / y\n"
      ]
    },
    {
      "cell_type": "code",
      "source": [
        "#define the functions to create operations\n",
        "def display_operations():\n",
        "    print(\"Select operation:\")\n",
        "    print(\"1. Add\")\n",
        "    print(\"2. Subtract\")\n",
        "    print(\"3. Multiply\")\n",
        "    print(\"4. Divide\")\n"
      ],
      "metadata": {
        "id": "eW-uxwiklK8X"
      },
      "execution_count": null,
      "outputs": []
    },
    {
      "cell_type": "code",
      "source": [
        "#main loop function\n",
        "while True:\n",
        "    display_operations()\n",
        "\n",
        "    choice = input(\"Enter choice (1/2/3/4) or 'q' to quit: \")\n",
        "\n",
        "    if choice.lower() == 'q':\n",
        "        print(\"Exiting the calculator. Goodbye!\")\n",
        "        break\n",
        "\n",
        "    # Check if the choice is valid\n",
        "    if choice in ['1', '2', '3', '4']:\n",
        "        try:\n",
        "            num1 = float(input(\"Enter first number: \"))\n",
        "            num2 = float(input(\"Enter second number: \"))\n",
        "        except ValueError:\n",
        "            print(\"Invalid input! Please enter numbers.\")\n",
        "            continue\n",
        "\n",
        "        if choice == '1':\n",
        "            print(f\"{num1} + {num2} = {add(num1, num2)}\")\n",
        "        elif choice == '2':\n",
        "            print(f\"{num1} - {num2} = {subtract(num1, num2)}\")\n",
        "        elif choice == '3':\n",
        "            print(f\"{num1} * {num2} = {multiply(num1, num2)}\")\n",
        "        elif choice == '4':\n",
        "            print(f\"{num1} / {num2} = {divide(num1, num2)}\")\n",
        "    else:\n",
        "        print(\"Invalid choice! Please select a valid operation.\")\n"
      ],
      "metadata": {
        "id": "kFNDBE-JlK5-"
      },
      "execution_count": null,
      "outputs": []
    },
    {
      "cell_type": "code",
      "source": [
        "#complete code\n",
        "def add(x, y):\n",
        "    return x + y\n",
        "\n",
        "def subtract(x, y):\n",
        "    return x - y\n",
        "\n",
        "def multiply(x, y):\n",
        "    return x * y\n",
        "\n",
        "def divide(x, y):\n",
        "    if y == 0:\n",
        "        return \"Error! Division by zero.\"\n",
        "    return x / y\n",
        "\n",
        "def display_operations():\n",
        "    print(\"Select operation:\")\n",
        "    print(\"1. Add\")\n",
        "    print(\"2. Subtract\")\n",
        "    print(\"3. Multiply\")\n",
        "    print(\"4. Divide\")\n",
        "\n",
        "while True:\n",
        "    display_operations()\n",
        "\n",
        "    choice = input(\"Enter choice (1/2/3/4) or 'q' to quit: \")\n",
        "\n",
        "    if choice.lower() == 'q':\n",
        "        print(\"Exiting the calculator. Goodbye!\")\n",
        "        break\n",
        "\n",
        "    if choice in ['1', '2', '3', '4']:\n",
        "        try:\n",
        "            num1 = float(input(\"Enter first number: \"))\n",
        "            num2 = float(input(\"Enter second number: \"))\n",
        "        except ValueError:\n",
        "            print(\"Invalid input! Please enter numbers.\")\n",
        "            continue\n",
        "\n",
        "        if choice == '1':\n",
        "            print(f\"{num1} + {num2} = {add(num1, num2)}\")\n",
        "        elif choice == '2':\n",
        "            print(f\"{num1} - {num2} = {subtract(num1, num2)}\")\n",
        "        elif choice == '3':\n",
        "            print(f\"{num1} * {num2} = {multiply(num1, num2)}\")\n",
        "        elif choice == '4':\n",
        "            print(f\"{num1} / {num2} = {divide(num1, num2)}\")\n",
        "    else:\n",
        "        print(\"Invalid choice! Please select a valid operation.\")\n"
      ],
      "metadata": {
        "id": "F_1CuedclZG-"
      },
      "execution_count": null,
      "outputs": []
    }
  ]
}