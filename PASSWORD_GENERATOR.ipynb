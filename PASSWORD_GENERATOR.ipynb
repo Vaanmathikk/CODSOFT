{
  "nbformat": 4,
  "nbformat_minor": 0,
  "metadata": {
    "colab": {
      "private_outputs": true,
      "provenance": []
    },
    "kernelspec": {
      "name": "python3",
      "display_name": "Python 3"
    },
    "language_info": {
      "name": "python"
    }
  },
  "cells": [
    {
      "cell_type": "code",
      "execution_count": null,
      "metadata": {
        "id": "7Ea4HlXumG-k"
      },
      "outputs": [],
      "source": [
        "#importing req lib\n",
        "import random\n",
        "import string\n"
      ]
    },
    {
      "cell_type": "code",
      "source": [
        "#pswd generator function\n",
        "def generate_password(length, use_uppercase, use_numbers, use_symbols):\n",
        "    character_pool = string.ascii_lowercase  # Start with lowercase letters\n",
        "\n",
        "    if use_uppercase:\n",
        "        character_pool += string.ascii_uppercase\n",
        "    if use_numbers:\n",
        "        character_pool += string.digits\n",
        "    if use_symbols:\n",
        "        character_pool += string.punctuation\n",
        "\n",
        "    if length < 1 or not character_pool:\n",
        "        return \"Error: Please specify a valid length and at least one character type.\"\n",
        "\n",
        "    password = ''.join(random.choice(character_pool) for _ in range(length))\n",
        "    return password\n"
      ],
      "metadata": {
        "id": "XuhL5Gphu6aK"
      },
      "execution_count": null,
      "outputs": []
    },
    {
      "cell_type": "code",
      "source": [
        "#prompt using for input\n",
        "def get_user_input():\n",
        "    length = int(input(\"Enter the desired length of the password: \"))\n",
        "    use_uppercase = input(\"Include uppercase letters? (y/n): \").lower() == 'y'\n",
        "    use_numbers = input(\"Include numbers? (y/n): \").lower() == 'y'\n",
        "    use_symbols = input(\"Include symbols? (y/n): \").lower() == 'y'\n",
        "\n",
        "    return length, use_uppercase, use_numbers, use_symbols\n"
      ],
      "metadata": {
        "id": "KHeTTVd8vHij"
      },
      "execution_count": null,
      "outputs": []
    },
    {
      "cell_type": "code",
      "source": [
        "#main logic of the program\n",
        "def main():\n",
        "    print(\"Welcome to the Password Generator!\")\n",
        "    length, use_uppercase, use_numbers, use_symbols = get_user_input()\n",
        "\n",
        "    generated_password = generate_password(length, use_uppercase, use_numbers, use_symbols)\n",
        "\n",
        "    print(f\"Generated Password: {generated_password}\")\n",
        "\n",
        "if __name__ == \"__main__\":\n",
        "    main()\n",
        "y"
      ],
      "metadata": {
        "id": "GcTdn54fvK5D"
      },
      "execution_count": null,
      "outputs": []
    }
  ]
}